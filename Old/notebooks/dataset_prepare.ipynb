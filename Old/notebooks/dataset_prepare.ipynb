{
  "nbformat": 4,
  "nbformat_minor": 0,
  "metadata": {
    "colab": {
      "provenance": [],
      "mount_file_id": "https://github.com/lockiultra/SCAMT/blob/main/dataset_prepare.ipynb",
      "authorship_tag": "ABX9TyPswtNATw7jhL7tP/QtSj0P",
      "include_colab_link": true
    },
    "kernelspec": {
      "name": "python3",
      "display_name": "Python 3"
    },
    "language_info": {
      "name": "python"
    }
  },
  "cells": [
    {
      "cell_type": "markdown",
      "metadata": {
        "id": "view-in-github",
        "colab_type": "text"
      },
      "source": [
        "<a href=\"https://colab.research.google.com/github/lockiultra/SCAMT/blob/main/dataset_prepare.ipynb\" target=\"_parent\"><img src=\"https://colab.research.google.com/assets/colab-badge.svg\" alt=\"Open In Colab\"/></a>"
      ]
    },
    {
      "cell_type": "code",
      "execution_count": 1,
      "metadata": {
        "colab": {
          "base_uri": "https://localhost:8080/"
        },
        "id": "RGgxlu9TOA9Y",
        "outputId": "3838c99f-41f5-44ee-e82d-efc2cdf5630d"
      },
      "outputs": [
        {
          "output_type": "stream",
          "name": "stdout",
          "text": [
            "\u001b[?25l     \u001b[90m━━━━━━━━━━━━━━━━━━━━━━━━━━━━━━━━━━━━━━━━\u001b[0m \u001b[32m0.0/1.0 MB\u001b[0m \u001b[31m?\u001b[0m eta \u001b[36m-:--:--\u001b[0m\r\u001b[2K     \u001b[90m━━━━━━━━━━━━━━━━━━━━━━━━━━━━━━━━━━━━━━━━\u001b[0m \u001b[32m0.0/1.0 MB\u001b[0m \u001b[31m?\u001b[0m eta \u001b[36m-:--:--\u001b[0m\r\u001b[2K     \u001b[91m━━━\u001b[0m\u001b[91m╸\u001b[0m\u001b[90m━━━━━━━━━━━━━━━━━━━━━━━━━━━━━━━━━━━━\u001b[0m \u001b[32m0.1/1.0 MB\u001b[0m \u001b[31m1.4 MB/s\u001b[0m eta \u001b[36m0:00:01\u001b[0m\r\u001b[2K     \u001b[91m━━━━━━━━━━━━━\u001b[0m\u001b[90m╺\u001b[0m\u001b[90m━━━━━━━━━━━━━━━━━━━━━━━━━━\u001b[0m \u001b[32m0.3/1.0 MB\u001b[0m \u001b[31m3.4 MB/s\u001b[0m eta \u001b[36m0:00:01\u001b[0m\r\u001b[2K     \u001b[91m━━━━━━━━━━━━━━━━━━━━━━━━━\u001b[0m\u001b[91m╸\u001b[0m\u001b[90m━━━━━━━━━━━━━━\u001b[0m \u001b[32m0.7/1.0 MB\u001b[0m \u001b[31m4.9 MB/s\u001b[0m eta \u001b[36m0:00:01\u001b[0m\r\u001b[2K     \u001b[91m━━━━━━━━━━━━━━━━━━━━━━━━━━━━━━━━━━━━━━━\u001b[0m\u001b[91m╸\u001b[0m \u001b[32m1.0/1.0 MB\u001b[0m \u001b[31m6.1 MB/s\u001b[0m eta \u001b[36m0:00:01\u001b[0m\r\u001b[2K     \u001b[90m━━━━━━━━━━━━━━━━━━━━━━━━━━━━━━━━━━━━━━━━\u001b[0m \u001b[32m1.0/1.0 MB\u001b[0m \u001b[31m5.5 MB/s\u001b[0m eta \u001b[36m0:00:00\u001b[0m\n",
            "\u001b[?25h"
          ]
        }
      ],
      "source": [
        "!pip install -q drug-named-entity-recognition"
      ]
    },
    {
      "cell_type": "code",
      "source": [
        "import nltk\n",
        "from nltk.tokenize import wordpunct_tokenize, word_tokenize\n",
        "from drug_named_entity_recognition import find_drugs\n",
        "from bs4 import BeautifulSoup\n",
        "from tqdm import tqdm\n",
        "import pandas as pd\n",
        "import seaborn as sns\n",
        "import matplotlib.pyplot as plt\n",
        "import requests\n",
        "import json\n",
        "import os\n",
        "\n",
        "import warnings\n",
        "warnings.filterwarnings('ignore')\n",
        "\n",
        "nltk.download('punkt')"
      ],
      "metadata": {
        "colab": {
          "base_uri": "https://localhost:8080/"
        },
        "id": "wu0EZCTnOZUg",
        "outputId": "4cfd270b-9e21-4e32-8ff3-c8e0406cf086"
      },
      "execution_count": 2,
      "outputs": [
        {
          "output_type": "stream",
          "name": "stderr",
          "text": [
            "[nltk_data] Downloading package punkt to /root/nltk_data...\n",
            "[nltk_data]   Unzipping tokenizers/punkt.zip.\n"
          ]
        },
        {
          "output_type": "execute_result",
          "data": {
            "text/plain": [
              "True"
            ]
          },
          "metadata": {},
          "execution_count": 2
        }
      ]
    },
    {
      "cell_type": "code",
      "source": [
        "diseases = [disease[:-4] for disease in os.listdir('./drive/MyDrive/SCAMT/data')]"
      ],
      "metadata": {
        "id": "_eu7oWHddc5m"
      },
      "execution_count": 3,
      "outputs": []
    },
    {
      "cell_type": "code",
      "source": [
        "diseases"
      ],
      "metadata": {
        "colab": {
          "base_uri": "https://localhost:8080/"
        },
        "id": "WCBAMN_UejWs",
        "outputId": "15b09047-a5b0-4f20-ec48-0cebc935ce1d"
      },
      "execution_count": 4,
      "outputs": [
        {
          "output_type": "execute_result",
          "data": {
            "text/plain": [
              "['digestive_system_disease',\n",
              " 'skin_and_connective_tissue_disease',\n",
              " 'cardiovascular_disease',\n",
              " 'immune_system_disease',\n",
              " 'mental_and_behavioural_disorder',\n",
              " 'metabolic_disease',\n",
              " 'nervous_system_disease',\n",
              " 'urinary_system_disease']"
            ]
          },
          "metadata": {},
          "execution_count": 4
        }
      ]
    },
    {
      "cell_type": "code",
      "source": [
        "def get_smiles(drug):\n",
        "  api_url = f'https://pubchem.ncbi.nlm.nih.gov/rest/pug/compound/name/{drug}/json'\n",
        "  response = json.loads(requests.get(api_url).text)\n",
        "  if response.get('PC_Compounds'):\n",
        "    for i in response.get('PC_Compounds')[0]['props']:\n",
        "      if i['urn'].get('label') == 'SMILES' and i['urn'].get('name') == 'Canonical':\n",
        "        return i['value']['sval']\n",
        "\n",
        "def get_drugs(drugs):\n",
        "  res = [None] * len(drugs)\n",
        "  for i, drug in enumerate(drugs):\n",
        "    res[i] = drug[0]['name']\n",
        "  return ';'.join(res)\n",
        "\n",
        "def drug_split(data, disease):\n",
        "  df = pd.DataFrame(columns=['Conditions', 'Drug', 'Smiles', 'Study Status', 'Phases'])\n",
        "  for i in range(data.shape[0]):\n",
        "    for drug in data.iloc[i]['Interventions'].split(';'):\n",
        "      df = df.append({'Conditions': data.iloc[i]['Conditions'], 'Drug': drug, 'Smiles': None, 'Disease': f'{disease}', 'Study Status': data.iloc[i]['Study Status'], 'Phases': data.iloc[i]['Phases']}, ignore_index=True)\n",
        "  return df\n",
        "\n",
        "def get_prepared_data(data, disease):\n",
        "  data['Interventions'] = data['Interventions'].map(lambda x: get_drugs(find_drugs(wordpunct_tokenize(x))))\n",
        "  data = data[data['Interventions'] > '']\n",
        "  data = drug_split(data, disease)\n",
        "  data = data.drop_duplicates(subset=['Drug'])\n",
        "  data['Smiles'] = data['Drug'].map(lambda x: get_smiles(x))\n",
        "  data = data.dropna()\n",
        "  return data"
      ],
      "metadata": {
        "id": "Rs9Oiwz3b4Es"
      },
      "execution_count": 5,
      "outputs": []
    },
    {
      "cell_type": "code",
      "source": [
        "data = pd.DataFrame(columns=['Conditions', 'Drug', 'Smiles', 'Study Status', 'Phases'])\n",
        "\n",
        "for disease in tqdm(diseases):\n",
        "  curr_df = pd.read_csv(f'./drive/MyDrive/SCAMT/data/{disease}.csv', usecols=['Study Status', 'Conditions', 'Interventions', 'Phases'])\n",
        "  curr_df = get_prepared_data(curr_df, disease)\n",
        "  frames = [data, curr_df]\n",
        "  data = pd.concat(frames)"
      ],
      "metadata": {
        "colab": {
          "base_uri": "https://localhost:8080/"
        },
        "id": "UwaYib41h0uQ",
        "outputId": "1fdcf171-ac81-49b3-ddad-c09f9c288baa"
      },
      "execution_count": 11,
      "outputs": [
        {
          "output_type": "stream",
          "name": "stderr",
          "text": [
            "100%|██████████| 8/8 [51:40<00:00, 387.58s/it]\n"
          ]
        }
      ]
    },
    {
      "cell_type": "code",
      "source": [
        "data.to_csv('./drive/MyDrive/SCAMT/data/data.csv')"
      ],
      "metadata": {
        "id": "8AoVzEfK0fUK"
      },
      "execution_count": 13,
      "outputs": []
    },
    {
      "cell_type": "code",
      "source": [
        "data"
      ],
      "metadata": {
        "id": "Bj6RYBlh1kTf",
        "outputId": "e1786460-ead7-4a21-e7d6-feb5bbe988bd",
        "colab": {
          "base_uri": "https://localhost:8080/",
          "height": 424
        }
      },
      "execution_count": 12,
      "outputs": [
        {
          "output_type": "execute_result",
          "data": {
            "text/plain": [
              "                                             Conditions           Drug  \\\n",
              "0                          Metastatic Colorectal Cancer     Irinotecan   \n",
              "1     Ulcerative Colitis|Left-sided Ulcerative Colit...     Mesalazine   \n",
              "2     Ulcerative Colitis|Left-sided Ulcerative Colit...     Mesalamine   \n",
              "5       HER-2 Positive Gastric Cancer|Metastatic Cancer   Capecitabine   \n",
              "6       HER-2 Positive Gastric Cancer|Metastatic Cancer      Cisplatin   \n",
              "...                                                 ...            ...   \n",
              "4211  Metastatic Renal Cell Cancer|Stage IV Renal Ce...      Ibrutinib   \n",
              "4214  Interstitial Fibrosis|Kidney Transplant; Compl...     Fingolimod   \n",
              "4221                    Clear Cell Renal Cell Carcinoma       Imatinib   \n",
              "4223          Cannabis|Chronic Kidney Diseases|Dialysis     Dronabinol   \n",
              "4225                                     Kidney Disease  Bremelanotide   \n",
              "\n",
              "                                                 Smiles  \\\n",
              "0     CCC1=C2CN3C(=CC4=C(C3=O)COC(=O)C4(CC)O)C2=NC5=...   \n",
              "1                               C1=CC(=C(C=C1N)C(=O)O)O   \n",
              "2                               C1=CC(=C(C=C1N)C(=O)O)O   \n",
              "5         CCCCCOC(=O)NC1=NC(=O)N(C=C1F)C2C(C(C(O2)C)O)O   \n",
              "6                                          N.N.Cl[Pt]Cl   \n",
              "...                                                 ...   \n",
              "4211  C=CC(=O)N1CCCC(C1)N2C3=NC=NC(=C3C(=N2)C4=CC=C(...   \n",
              "4214                  CCCCCCCCC1=CC=C(C=C1)CCC(CO)(CO)N   \n",
              "4221  CC1=C(C=C(C=C1)NC(=O)C2=CC=C(C=C2)CN3CCN(CC3)C...   \n",
              "4223          CCCCCC1=CC(=C2C3C=C(CCC3C(OC2=C1)(C)C)C)O   \n",
              "4225  CCCCC(C(=O)NC1CC(=O)NCCCCC(NC(=O)C(NC(=O)C(NC(...   \n",
              "\n",
              "                 Study Status         Phases                   Disease  \n",
              "0                   COMPLETED  PHASE1|PHASE2  digestive_system_disease  \n",
              "1                     UNKNOWN         PHASE2  digestive_system_disease  \n",
              "2                     UNKNOWN         PHASE2  digestive_system_disease  \n",
              "5                     UNKNOWN         PHASE2  digestive_system_disease  \n",
              "6                     UNKNOWN         PHASE2  digestive_system_disease  \n",
              "...                       ...            ...                       ...  \n",
              "4211                COMPLETED  PHASE1|PHASE2    urinary_system_disease  \n",
              "4214  ENROLLING_BY_INVITATION         PHASE2    urinary_system_disease  \n",
              "4221                COMPLETED  PHASE1|PHASE2    urinary_system_disease  \n",
              "4223               RECRUITING         PHASE1    urinary_system_disease  \n",
              "4225               RECRUITING         PHASE2    urinary_system_disease  \n",
              "\n",
              "[4875 rows x 6 columns]"
            ],
            "text/html": [
              "\n",
              "\n",
              "  <div id=\"df-24f5d443-4f10-4c71-b2f2-ed4507af4e6f\">\n",
              "    <div class=\"colab-df-container\">\n",
              "      <div>\n",
              "<style scoped>\n",
              "    .dataframe tbody tr th:only-of-type {\n",
              "        vertical-align: middle;\n",
              "    }\n",
              "\n",
              "    .dataframe tbody tr th {\n",
              "        vertical-align: top;\n",
              "    }\n",
              "\n",
              "    .dataframe thead th {\n",
              "        text-align: right;\n",
              "    }\n",
              "</style>\n",
              "<table border=\"1\" class=\"dataframe\">\n",
              "  <thead>\n",
              "    <tr style=\"text-align: right;\">\n",
              "      <th></th>\n",
              "      <th>Conditions</th>\n",
              "      <th>Drug</th>\n",
              "      <th>Smiles</th>\n",
              "      <th>Study Status</th>\n",
              "      <th>Phases</th>\n",
              "      <th>Disease</th>\n",
              "    </tr>\n",
              "  </thead>\n",
              "  <tbody>\n",
              "    <tr>\n",
              "      <th>0</th>\n",
              "      <td>Metastatic Colorectal Cancer</td>\n",
              "      <td>Irinotecan</td>\n",
              "      <td>CCC1=C2CN3C(=CC4=C(C3=O)COC(=O)C4(CC)O)C2=NC5=...</td>\n",
              "      <td>COMPLETED</td>\n",
              "      <td>PHASE1|PHASE2</td>\n",
              "      <td>digestive_system_disease</td>\n",
              "    </tr>\n",
              "    <tr>\n",
              "      <th>1</th>\n",
              "      <td>Ulcerative Colitis|Left-sided Ulcerative Colit...</td>\n",
              "      <td>Mesalazine</td>\n",
              "      <td>C1=CC(=C(C=C1N)C(=O)O)O</td>\n",
              "      <td>UNKNOWN</td>\n",
              "      <td>PHASE2</td>\n",
              "      <td>digestive_system_disease</td>\n",
              "    </tr>\n",
              "    <tr>\n",
              "      <th>2</th>\n",
              "      <td>Ulcerative Colitis|Left-sided Ulcerative Colit...</td>\n",
              "      <td>Mesalamine</td>\n",
              "      <td>C1=CC(=C(C=C1N)C(=O)O)O</td>\n",
              "      <td>UNKNOWN</td>\n",
              "      <td>PHASE2</td>\n",
              "      <td>digestive_system_disease</td>\n",
              "    </tr>\n",
              "    <tr>\n",
              "      <th>5</th>\n",
              "      <td>HER-2 Positive Gastric Cancer|Metastatic Cancer</td>\n",
              "      <td>Capecitabine</td>\n",
              "      <td>CCCCCOC(=O)NC1=NC(=O)N(C=C1F)C2C(C(C(O2)C)O)O</td>\n",
              "      <td>UNKNOWN</td>\n",
              "      <td>PHASE2</td>\n",
              "      <td>digestive_system_disease</td>\n",
              "    </tr>\n",
              "    <tr>\n",
              "      <th>6</th>\n",
              "      <td>HER-2 Positive Gastric Cancer|Metastatic Cancer</td>\n",
              "      <td>Cisplatin</td>\n",
              "      <td>N.N.Cl[Pt]Cl</td>\n",
              "      <td>UNKNOWN</td>\n",
              "      <td>PHASE2</td>\n",
              "      <td>digestive_system_disease</td>\n",
              "    </tr>\n",
              "    <tr>\n",
              "      <th>...</th>\n",
              "      <td>...</td>\n",
              "      <td>...</td>\n",
              "      <td>...</td>\n",
              "      <td>...</td>\n",
              "      <td>...</td>\n",
              "      <td>...</td>\n",
              "    </tr>\n",
              "    <tr>\n",
              "      <th>4211</th>\n",
              "      <td>Metastatic Renal Cell Cancer|Stage IV Renal Ce...</td>\n",
              "      <td>Ibrutinib</td>\n",
              "      <td>C=CC(=O)N1CCCC(C1)N2C3=NC=NC(=C3C(=N2)C4=CC=C(...</td>\n",
              "      <td>COMPLETED</td>\n",
              "      <td>PHASE1|PHASE2</td>\n",
              "      <td>urinary_system_disease</td>\n",
              "    </tr>\n",
              "    <tr>\n",
              "      <th>4214</th>\n",
              "      <td>Interstitial Fibrosis|Kidney Transplant; Compl...</td>\n",
              "      <td>Fingolimod</td>\n",
              "      <td>CCCCCCCCC1=CC=C(C=C1)CCC(CO)(CO)N</td>\n",
              "      <td>ENROLLING_BY_INVITATION</td>\n",
              "      <td>PHASE2</td>\n",
              "      <td>urinary_system_disease</td>\n",
              "    </tr>\n",
              "    <tr>\n",
              "      <th>4221</th>\n",
              "      <td>Clear Cell Renal Cell Carcinoma</td>\n",
              "      <td>Imatinib</td>\n",
              "      <td>CC1=C(C=C(C=C1)NC(=O)C2=CC=C(C=C2)CN3CCN(CC3)C...</td>\n",
              "      <td>COMPLETED</td>\n",
              "      <td>PHASE1|PHASE2</td>\n",
              "      <td>urinary_system_disease</td>\n",
              "    </tr>\n",
              "    <tr>\n",
              "      <th>4223</th>\n",
              "      <td>Cannabis|Chronic Kidney Diseases|Dialysis</td>\n",
              "      <td>Dronabinol</td>\n",
              "      <td>CCCCCC1=CC(=C2C3C=C(CCC3C(OC2=C1)(C)C)C)O</td>\n",
              "      <td>RECRUITING</td>\n",
              "      <td>PHASE1</td>\n",
              "      <td>urinary_system_disease</td>\n",
              "    </tr>\n",
              "    <tr>\n",
              "      <th>4225</th>\n",
              "      <td>Kidney Disease</td>\n",
              "      <td>Bremelanotide</td>\n",
              "      <td>CCCCC(C(=O)NC1CC(=O)NCCCCC(NC(=O)C(NC(=O)C(NC(...</td>\n",
              "      <td>RECRUITING</td>\n",
              "      <td>PHASE2</td>\n",
              "      <td>urinary_system_disease</td>\n",
              "    </tr>\n",
              "  </tbody>\n",
              "</table>\n",
              "<p>4875 rows × 6 columns</p>\n",
              "</div>\n",
              "      <button class=\"colab-df-convert\" onclick=\"convertToInteractive('df-24f5d443-4f10-4c71-b2f2-ed4507af4e6f')\"\n",
              "              title=\"Convert this dataframe to an interactive table.\"\n",
              "              style=\"display:none;\">\n",
              "\n",
              "  <svg xmlns=\"http://www.w3.org/2000/svg\" height=\"24px\"viewBox=\"0 0 24 24\"\n",
              "       width=\"24px\">\n",
              "    <path d=\"M0 0h24v24H0V0z\" fill=\"none\"/>\n",
              "    <path d=\"M18.56 5.44l.94 2.06.94-2.06 2.06-.94-2.06-.94-.94-2.06-.94 2.06-2.06.94zm-11 1L8.5 8.5l.94-2.06 2.06-.94-2.06-.94L8.5 2.5l-.94 2.06-2.06.94zm10 10l.94 2.06.94-2.06 2.06-.94-2.06-.94-.94-2.06-.94 2.06-2.06.94z\"/><path d=\"M17.41 7.96l-1.37-1.37c-.4-.4-.92-.59-1.43-.59-.52 0-1.04.2-1.43.59L10.3 9.45l-7.72 7.72c-.78.78-.78 2.05 0 2.83L4 21.41c.39.39.9.59 1.41.59.51 0 1.02-.2 1.41-.59l7.78-7.78 2.81-2.81c.8-.78.8-2.07 0-2.86zM5.41 20L4 18.59l7.72-7.72 1.47 1.35L5.41 20z\"/>\n",
              "  </svg>\n",
              "      </button>\n",
              "\n",
              "\n",
              "\n",
              "    <div id=\"df-ef9dea87-88f7-4029-9c90-ef0aa145f42c\">\n",
              "      <button class=\"colab-df-quickchart\" onclick=\"quickchart('df-ef9dea87-88f7-4029-9c90-ef0aa145f42c')\"\n",
              "              title=\"Suggest charts.\"\n",
              "              style=\"display:none;\">\n",
              "\n",
              "<svg xmlns=\"http://www.w3.org/2000/svg\" height=\"24px\"viewBox=\"0 0 24 24\"\n",
              "     width=\"24px\">\n",
              "    <g>\n",
              "        <path d=\"M19 3H5c-1.1 0-2 .9-2 2v14c0 1.1.9 2 2 2h14c1.1 0 2-.9 2-2V5c0-1.1-.9-2-2-2zM9 17H7v-7h2v7zm4 0h-2V7h2v10zm4 0h-2v-4h2v4z\"/>\n",
              "    </g>\n",
              "</svg>\n",
              "      </button>\n",
              "    </div>\n",
              "\n",
              "<style>\n",
              "  .colab-df-quickchart {\n",
              "    background-color: #E8F0FE;\n",
              "    border: none;\n",
              "    border-radius: 50%;\n",
              "    cursor: pointer;\n",
              "    display: none;\n",
              "    fill: #1967D2;\n",
              "    height: 32px;\n",
              "    padding: 0 0 0 0;\n",
              "    width: 32px;\n",
              "  }\n",
              "\n",
              "  .colab-df-quickchart:hover {\n",
              "    background-color: #E2EBFA;\n",
              "    box-shadow: 0px 1px 2px rgba(60, 64, 67, 0.3), 0px 1px 3px 1px rgba(60, 64, 67, 0.15);\n",
              "    fill: #174EA6;\n",
              "  }\n",
              "\n",
              "  [theme=dark] .colab-df-quickchart {\n",
              "    background-color: #3B4455;\n",
              "    fill: #D2E3FC;\n",
              "  }\n",
              "\n",
              "  [theme=dark] .colab-df-quickchart:hover {\n",
              "    background-color: #434B5C;\n",
              "    box-shadow: 0px 1px 3px 1px rgba(0, 0, 0, 0.15);\n",
              "    filter: drop-shadow(0px 1px 2px rgba(0, 0, 0, 0.3));\n",
              "    fill: #FFFFFF;\n",
              "  }\n",
              "</style>\n",
              "\n",
              "    <script>\n",
              "      async function quickchart(key) {\n",
              "        const containerElement = document.querySelector('#' + key);\n",
              "        const charts = await google.colab.kernel.invokeFunction(\n",
              "            'suggestCharts', [key], {});\n",
              "      }\n",
              "    </script>\n",
              "\n",
              "      <script>\n",
              "\n",
              "function displayQuickchartButton(domScope) {\n",
              "  let quickchartButtonEl =\n",
              "    domScope.querySelector('#df-ef9dea87-88f7-4029-9c90-ef0aa145f42c button.colab-df-quickchart');\n",
              "  quickchartButtonEl.style.display =\n",
              "    google.colab.kernel.accessAllowed ? 'block' : 'none';\n",
              "}\n",
              "\n",
              "        displayQuickchartButton(document);\n",
              "      </script>\n",
              "      <style>\n",
              "    .colab-df-container {\n",
              "      display:flex;\n",
              "      flex-wrap:wrap;\n",
              "      gap: 12px;\n",
              "    }\n",
              "\n",
              "    .colab-df-convert {\n",
              "      background-color: #E8F0FE;\n",
              "      border: none;\n",
              "      border-radius: 50%;\n",
              "      cursor: pointer;\n",
              "      display: none;\n",
              "      fill: #1967D2;\n",
              "      height: 32px;\n",
              "      padding: 0 0 0 0;\n",
              "      width: 32px;\n",
              "    }\n",
              "\n",
              "    .colab-df-convert:hover {\n",
              "      background-color: #E2EBFA;\n",
              "      box-shadow: 0px 1px 2px rgba(60, 64, 67, 0.3), 0px 1px 3px 1px rgba(60, 64, 67, 0.15);\n",
              "      fill: #174EA6;\n",
              "    }\n",
              "\n",
              "    [theme=dark] .colab-df-convert {\n",
              "      background-color: #3B4455;\n",
              "      fill: #D2E3FC;\n",
              "    }\n",
              "\n",
              "    [theme=dark] .colab-df-convert:hover {\n",
              "      background-color: #434B5C;\n",
              "      box-shadow: 0px 1px 3px 1px rgba(0, 0, 0, 0.15);\n",
              "      filter: drop-shadow(0px 1px 2px rgba(0, 0, 0, 0.3));\n",
              "      fill: #FFFFFF;\n",
              "    }\n",
              "  </style>\n",
              "\n",
              "      <script>\n",
              "        const buttonEl =\n",
              "          document.querySelector('#df-24f5d443-4f10-4c71-b2f2-ed4507af4e6f button.colab-df-convert');\n",
              "        buttonEl.style.display =\n",
              "          google.colab.kernel.accessAllowed ? 'block' : 'none';\n",
              "\n",
              "        async function convertToInteractive(key) {\n",
              "          const element = document.querySelector('#df-24f5d443-4f10-4c71-b2f2-ed4507af4e6f');\n",
              "          const dataTable =\n",
              "            await google.colab.kernel.invokeFunction('convertToInteractive',\n",
              "                                                     [key], {});\n",
              "          if (!dataTable) return;\n",
              "\n",
              "          const docLinkHtml = 'Like what you see? Visit the ' +\n",
              "            '<a target=\"_blank\" href=https://colab.research.google.com/notebooks/data_table.ipynb>data table notebook</a>'\n",
              "            + ' to learn more about interactive tables.';\n",
              "          element.innerHTML = '';\n",
              "          dataTable['output_type'] = 'display_data';\n",
              "          await google.colab.output.renderOutput(dataTable, element);\n",
              "          const docLink = document.createElement('div');\n",
              "          docLink.innerHTML = docLinkHtml;\n",
              "          element.appendChild(docLink);\n",
              "        }\n",
              "      </script>\n",
              "    </div>\n",
              "  </div>\n"
            ]
          },
          "metadata": {},
          "execution_count": 12
        }
      ]
    },
    {
      "cell_type": "code",
      "source": [
        "data['Drug'].unique().shape"
      ],
      "metadata": {
        "colab": {
          "base_uri": "https://localhost:8080/"
        },
        "id": "Ec9opCfi0f2_",
        "outputId": "ac5ea901-2ba6-44f2-df8a-952b9f98db63"
      },
      "execution_count": 14,
      "outputs": [
        {
          "output_type": "execute_result",
          "data": {
            "text/plain": [
              "(1904,)"
            ]
          },
          "metadata": {},
          "execution_count": 14
        }
      ]
    },
    {
      "cell_type": "code",
      "source": [
        "data = data.drop_duplicates(subset=['Drug'])"
      ],
      "metadata": {
        "id": "wtcTF2DR1NWM"
      },
      "execution_count": 15,
      "outputs": []
    },
    {
      "cell_type": "code",
      "source": [
        "plt.figure(figsize=(16, 9))\n",
        "sns.barplot(x=data['Disease'].value_counts().index, y=data['Disease'].value_counts().values)\n",
        "plt.xticks(rotation=45)"
      ],
      "metadata": {
        "colab": {
          "base_uri": "https://localhost:8080/",
          "height": 1000
        },
        "id": "lrHaRJPM1qCF",
        "outputId": "f53ffb35-8dd3-491a-b87b-b33c8f214c6e"
      },
      "execution_count": 16,
      "outputs": [
        {
          "output_type": "execute_result",
          "data": {
            "text/plain": [
              "(array([0, 1, 2, 3, 4, 5, 6, 7]),\n",
              " [Text(0, 0, 'digestive_system_disease'),\n",
              "  Text(1, 0, 'cardiovascular_disease'),\n",
              "  Text(2, 0, 'immune_system_disease'),\n",
              "  Text(3, 0, 'nervous_system_disease'),\n",
              "  Text(4, 0, 'metabolic_disease'),\n",
              "  Text(5, 0, 'urinary_system_disease'),\n",
              "  Text(6, 0, 'mental_and_behavioural_disorder'),\n",
              "  Text(7, 0, 'skin_and_connective_tissue_disease')])"
            ]
          },
          "metadata": {},
          "execution_count": 16
        },
        {
          "output_type": "display_data",
          "data": {
            "text/plain": [
              "<Figure size 1600x900 with 1 Axes>"
            ],
            "image/png": "[encoded data removed]"
          },
          "metadata": {}
        }
      ]
    },
    {
      "cell_type": "code",
      "source": [
        "data['Disease'].value_counts()"
      ],
      "metadata": {
        "colab": {
          "base_uri": "https://localhost:8080/"
        },
        "id": "ivoSMdQS33hP",
        "outputId": "712e152e-cc6b-44ff-a878-d31db4a0795e"
      },
      "execution_count": 17,
      "outputs": [
        {
          "output_type": "execute_result",
          "data": {
            "text/plain": [
              "digestive_system_disease              886\n",
              "cardiovascular_disease                345\n",
              "immune_system_disease                 251\n",
              "nervous_system_disease                177\n",
              "metabolic_disease                      94\n",
              "urinary_system_disease                 62\n",
              "mental_and_behavioural_disorder        60\n",
              "skin_and_connective_tissue_disease     29\n",
              "Name: Disease, dtype: int64"
            ]
          },
          "metadata": {},
          "execution_count": 17
        }
      ]
    },
    {
      "cell_type": "code",
      "source": [
        "data.to_csv('./drive/MyDrive/SCAMT/data_without_dupl.csv')"
      ],
      "metadata": {
        "id": "MrZJUYjR4sT0"
      },
      "execution_count": 18,
      "outputs": []
    }
  ]
}