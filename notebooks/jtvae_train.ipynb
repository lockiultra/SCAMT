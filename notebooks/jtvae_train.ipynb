{
  "nbformat": 4,
  "nbformat_minor": 0,
  "metadata": {
    "colab": {
      "provenance": [],
      "gpuType": "T4",
      "mount_file_id": "10z85RYRmJCzblW1ZoOr8xbWm4z-YYgXk",
      "authorship_tag": "ABX9TyNS8TB7pel8SNdFrmSMl4My",
      "include_colab_link": true
    },
    "kernelspec": {
      "name": "python3",
      "display_name": "Python 3"
    },
    "language_info": {
      "name": "python"
    },
    "accelerator": "GPU"
  },
  "cells": [
    {
      "cell_type": "markdown",
      "metadata": {
        "id": "view-in-github",
        "colab_type": "text"
      },
      "source": [
        "<a href=\"https://colab.research.google.com/github/lockiultra/SCAMT/blob/main/jtvae_train.ipynb\" target=\"_parent\"><img src=\"https://colab.research.google.com/assets/colab-badge.svg\" alt=\"Open In Colab\"/></a>"
      ]
    },
    {
      "cell_type": "code",
      "execution_count": null,
      "metadata": {
        "colab": {
          "base_uri": "https://localhost:8080/"
        },
        "id": "FCf7Sj3SIWIp",
        "outputId": "398ffa46-9d7e-4cdf-9338-5f3498c9e8c3"
      },
      "outputs": [
        {
          "output_type": "stream",
          "name": "stdout",
          "text": [
            "\u001b[2K     \u001b[90m━━━━━━━━━━━━━━━━━━━━━━━━━━━━━━━━━━━━━━━━\u001b[0m \u001b[32m29.7/29.7 MB\u001b[0m \u001b[31m38.7 MB/s\u001b[0m eta \u001b[36m0:00:00\u001b[0m\n",
            "\u001b[?25h"
          ]
        }
      ],
      "source": [
        "!pip -q install rdkit"
      ]
    },
    {
      "cell_type": "code",
      "source": [
        "!git clone https://github.com/Bibyutatsu/FastJTNNpy3.git"
      ],
      "metadata": {
        "colab": {
          "base_uri": "https://localhost:8080/"
        },
        "id": "zXsedMVgIcQW",
        "outputId": "3950454f-c7f4-428b-f4cd-6b436e899726"
      },
      "execution_count": null,
      "outputs": [
        {
          "output_type": "stream",
          "name": "stdout",
          "text": [
            "Cloning into 'FastJTNNpy3'...\n",
            "remote: Enumerating objects: 402, done.\u001b[K\n",
            "remote: Counting objects: 100% (61/61), done.\u001b[K\n",
            "remote: Compressing objects: 100% (46/46), done.\u001b[K\n",
            "remote: Total 402 (delta 15), reused 60 (delta 14), pack-reused 341\u001b[K\n",
            "Receiving objects: 100% (402/402), 520.25 MiB | 24.07 MiB/s, done.\n",
            "Resolving deltas: 100% (45/45), done.\n",
            "Updating files: 100% (308/308), done.\n"
          ]
        }
      ]
    },
    {
      "cell_type": "code",
      "source": [
        "import warnings\n",
        "warnings.filterwarnings('ignore')\n",
        "\n",
        "from fast_jtnn.mol_tree import main_mol_tree\n",
        "from fast_molvae.vae_train import main_vae_train\n",
        "\n",
        "from tqdm import tqdm\n",
        "import pandas as pd\n",
        "import torch"
      ],
      "metadata": {
        "id": "x1AnAMEWJOSM"
      },
      "execution_count": null,
      "outputs": []
    },
    {
      "cell_type": "code",
      "source": [
        "main_mol_tree('./data/smiles.txt', './data/vocab_new.txt', MAX_TREE_WIDTH=200)"
      ],
      "metadata": {
        "id": "JpsE_O4JJBfB"
      },
      "execution_count": null,
      "outputs": []
    },
    {
      "cell_type": "code",
      "source": [
        "with open('./data/vocab_new.txt') as f:\n",
        "  vocab_new = [smiles for smiles in f.read().split('\\n')]"
      ],
      "metadata": {
        "id": "WxbX0KWDJ7mX"
      },
      "execution_count": null,
      "outputs": []
    },
    {
      "cell_type": "code",
      "source": [
        "with open('./data/vocab_old.txt') as f:\n",
        "  vocab_old = [smiles for smiles in f.read().split('\\n')]"
      ],
      "metadata": {
        "id": "f3SpKWczKS45"
      },
      "execution_count": null,
      "outputs": []
    },
    {
      "cell_type": "code",
      "source": [
        "vocab_new.extend(vocab_old)"
      ],
      "metadata": {
        "id": "V1keB2LZKa9P"
      },
      "execution_count": null,
      "outputs": []
    },
    {
      "cell_type": "code",
      "source": [
        "vocab = pd.Series(vocab_new)"
      ],
      "metadata": {
        "id": "CQvBCrNiKfko"
      },
      "execution_count": null,
      "outputs": []
    },
    {
      "cell_type": "code",
      "source": [
        "vocab = vocab.drop_duplicates()"
      ],
      "metadata": {
        "id": "aendfFVSKj0G"
      },
      "execution_count": null,
      "outputs": []
    },
    {
      "cell_type": "code",
      "source": [
        "with open('./data/vocab.txt', 'w') as f:\n",
        "  for smiles in vocab:\n",
        "    f.write(f'{smiles}\\n')"
      ],
      "metadata": {
        "id": "C7zDLxbwK1Ou"
      },
      "execution_count": null,
      "outputs": []
    },
    {
      "cell_type": "code",
      "source": [
        "model = main_vae_train('./fast_molvae/processed/', './data/vocab.txt', './fast_molvae/vae_model')"
      ],
      "metadata": {
        "colab": {
          "base_uri": "https://localhost:8080/"
        },
        "id": "atxWzSM9JrLt",
        "outputId": "5c2af158-570e-45bc-a25d-c8e831921e10"
      },
      "execution_count": null,
      "outputs": [
        {
          "metadata": {
            "tags": null
          },
          "name": "stdout",
          "output_type": "stream",
          "text": [
            "JTNNVAE(\n",
            "  (jtnn): JTNNEncoder(\n",
            "    (embedding): Embedding(508, 450)\n",
            "    (outputNN): Sequential(\n",
            "      (0): Linear(in_features=900, out_features=450, bias=True)\n",
            "      (1): ReLU()\n",
            "    )\n",
            "    (GRU): GraphGRU(\n",
            "      (W_z): Linear(in_features=900, out_features=450, bias=True)\n",
            "      (W_r): Linear(in_features=450, out_features=450, bias=False)\n",
            "      (U_r): Linear(in_features=450, out_features=450, bias=True)\n",
            "      (W_h): Linear(in_features=900, out_features=450, bias=True)\n",
            "    )\n",
            "  )\n",
            "  (decoder): JTNNDecoder(\n",
            "    (embedding): Embedding(508, 450)\n",
            "    (W_z): Linear(in_features=900, out_features=450, bias=True)\n",
            "    (U_r): Linear(in_features=450, out_features=450, bias=False)\n",
            "    (W_r): Linear(in_features=450, out_features=450, bias=True)\n",
            "    (W_h): Linear(in_features=900, out_features=450, bias=True)\n",
            "    (W): Linear(in_features=478, out_features=450, bias=True)\n",
            "    (U): Linear(in_features=478, out_features=450, bias=True)\n",
            "    (U_i): Linear(in_features=900, out_features=450, bias=True)\n",
            "    (W_o): Linear(in_features=450, out_features=508, bias=True)\n",
            "    (U_o): Linear(in_features=450, out_features=1, bias=True)\n",
            "    (pred_loss): CrossEntropyLoss()\n",
            "    (stop_loss): BCEWithLogitsLoss()\n",
            "  )\n",
            "  (jtmpn): JTMPN(\n",
            "    (W_i): Linear(in_features=40, out_features=450, bias=False)\n",
            "    (W_h): Linear(in_features=450, out_features=450, bias=False)\n",
            "    (W_o): Linear(in_features=485, out_features=450, bias=True)\n",
            "  )\n",
            "  (mpn): MPN(\n",
            "    (W_i): Linear(in_features=50, out_features=450, bias=False)\n",
            "    (W_h): Linear(in_features=450, out_features=450, bias=False)\n",
            "    (W_o): Linear(in_features=489, out_features=450, bias=True)\n",
            "  )\n",
            "  (A_assm): Linear(in_features=28, out_features=450, bias=False)\n",
            "  (assm_loss): CrossEntropyLoss()\n",
            "  (T_mean): Linear(in_features=450, out_features=28, bias=True)\n",
            "  (T_var): Linear(in_features=450, out_features=28, bias=True)\n",
            "  (G_mean): Linear(in_features=450, out_features=28, bias=True)\n",
            "  (G_var): Linear(in_features=450, out_features=28, bias=True)\n",
            ")\n",
            "Model #Params: 5309K\n"
          ]
        },
        {
          "metadata": {
            "tags": null
          },
          "name": "stderr",
          "output_type": "stream",
          "text": [
            "\r  0%|          | 0/20 [00:00<?, ?it/s]"
          ]
        },
        {
          "metadata": {
            "tags": null
          },
          "name": "stdout",
          "output_type": "stream",
          "text": [
            "[50] Beta: 0.000, KL: 165.09, Word: 25.56, Topo: 80.77, Assm: 54.06, PNorm: 102.46, GNorm: 31.18\n",
            "[100] Beta: 0.000, KL: 175.17, Word: 42.93, Topo: 90.62, Assm: 56.66, PNorm: 104.83, GNorm: 50.00\n",
            "[150] Beta: 0.000, KL: 175.46, Word: 51.45, Topo: 92.01, Assm: 58.29, PNorm: 107.00, GNorm: 43.80\n",
            "[200] Beta: 0.000, KL: 184.66, Word: 57.35, Topo: 92.62, Assm: 58.33, PNorm: 109.00, GNorm: 34.76\n",
            "[250] Beta: 0.000, KL: 194.42, Word: 62.24, Topo: 93.71, Assm: 59.19, PNorm: 110.79, GNorm: 14.41\n",
            "[300] Beta: 0.000, KL: 216.16, Word: 63.97, Topo: 93.66, Assm: 60.28, PNorm: 112.39, GNorm: 33.00\n"
          ]
        },
        {
          "metadata": {
            "tags": null
          },
          "name": "stderr",
          "output_type": "stream",
          "text": [
            "\r  5%|▌         | 1/20 [09:11<2:54:29, 551.04s/it]"
          ]
        },
        {
          "metadata": {
            "tags": null
          },
          "name": "stdout",
          "output_type": "stream",
          "text": [
            "[350] Beta: 0.000, KL: 231.20, Word: 65.72, Topo: 93.86, Assm: 61.44, PNorm: 114.04, GNorm: 26.84\n",
            "[400] Beta: 0.000, KL: 244.65, Word: 67.14, Topo: 93.75, Assm: 62.19, PNorm: 115.63, GNorm: 32.94\n",
            "[450] Beta: 0.000, KL: 262.68, Word: 68.60, Topo: 94.37, Assm: 64.38, PNorm: 117.21, GNorm: 31.07\n",
            "[500] Beta: 0.000, KL: 292.28, Word: 69.29, Topo: 94.28, Assm: 66.54, PNorm: 118.82, GNorm: 40.41\n",
            "[550] Beta: 0.000, KL: 293.44, Word: 70.82, Topo: 94.95, Assm: 67.90, PNorm: 120.34, GNorm: 18.67\n",
            "[600] Beta: 0.000, KL: 320.83, Word: 72.04, Topo: 94.95, Assm: 69.22, PNorm: 121.86, GNorm: 19.67\n"
          ]
        },
        {
          "metadata": {
            "tags": null
          },
          "name": "stderr",
          "output_type": "stream",
          "text": [
            "\r 10%|█         | 2/20 [18:36<2:47:56, 559.78s/it]"
          ]
        },
        {
          "metadata": {
            "tags": null
          },
          "name": "stdout",
          "output_type": "stream",
          "text": [
            "[650] Beta: 0.000, KL: 335.17, Word: 72.89, Topo: 94.90, Assm: 71.62, PNorm: 123.34, GNorm: 25.29\n",
            "[700] Beta: 0.000, KL: 343.77, Word: 73.24, Topo: 95.19, Assm: 71.66, PNorm: 124.73, GNorm: 39.69\n",
            "[750] Beta: 0.000, KL: 348.30, Word: 73.66, Topo: 94.55, Assm: 72.48, PNorm: 126.18, GNorm: 24.74\n",
            "[800] Beta: 0.000, KL: 369.37, Word: 74.53, Topo: 95.25, Assm: 74.40, PNorm: 127.56, GNorm: 36.97\n",
            "[850] Beta: 0.000, KL: 376.55, Word: 76.01, Topo: 95.14, Assm: 74.99, PNorm: 128.98, GNorm: 35.65\n",
            "[900] Beta: 0.000, KL: 395.25, Word: 76.78, Topo: 95.47, Assm: 75.57, PNorm: 130.33, GNorm: 24.00\n"
          ]
        },
        {
          "metadata": {
            "tags": null
          },
          "name": "stderr",
          "output_type": "stream",
          "text": [
            "\r 15%|█▌        | 3/20 [27:58<2:38:52, 560.72s/it]"
          ]
        },
        {
          "metadata": {
            "tags": null
          },
          "name": "stdout",
          "output_type": "stream",
          "text": [
            "[950] Beta: 0.000, KL: 402.26, Word: 76.96, Topo: 95.74, Assm: 76.38, PNorm: 131.65, GNorm: 23.04\n",
            "[1000] Beta: 0.000, KL: 415.00, Word: 77.51, Topo: 95.76, Assm: 76.16, PNorm: 132.96, GNorm: 39.11\n",
            "[1050] Beta: 0.000, KL: 431.92, Word: 77.62, Topo: 95.83, Assm: 76.26, PNorm: 134.32, GNorm: 21.85\n",
            "[1100] Beta: 0.000, KL: 435.36, Word: 78.12, Topo: 95.66, Assm: 77.76, PNorm: 135.76, GNorm: 18.93\n",
            "[1150] Beta: 0.000, KL: 456.21, Word: 79.28, Topo: 96.16, Assm: 78.87, PNorm: 137.09, GNorm: 23.37\n",
            "[1200] Beta: 0.000, KL: 473.54, Word: 79.94, Topo: 96.39, Assm: 79.09, PNorm: 138.40, GNorm: 21.66\n"
          ]
        },
        {
          "metadata": {
            "tags": null
          },
          "name": "stderr",
          "output_type": "stream",
          "text": [
            "\r 20%|██        | 4/20 [37:13<2:28:54, 558.41s/it]"
          ]
        },
        {
          "metadata": {
            "tags": null
          },
          "name": "stdout",
          "output_type": "stream",
          "text": [
            "[1250] Beta: 0.000, KL: 474.89, Word: 79.73, Topo: 96.45, Assm: 80.84, PNorm: 139.76, GNorm: 21.38\n",
            "[1300] Beta: 0.000, KL: 479.96, Word: 80.48, Topo: 96.44, Assm: 80.94, PNorm: 141.03, GNorm: 29.44\n",
            "[1350] Beta: 0.000, KL: 497.79, Word: 80.46, Topo: 96.65, Assm: 81.10, PNorm: 142.35, GNorm: 32.54\n",
            "[1400] Beta: 0.000, KL: 508.31, Word: 80.75, Topo: 96.73, Assm: 81.68, PNorm: 143.70, GNorm: 31.07\n",
            "[1450] Beta: 0.000, KL: 517.84, Word: 81.65, Topo: 96.84, Assm: 83.46, PNorm: 144.96, GNorm: 31.12\n",
            "[1500] Beta: 0.000, KL: 540.80, Word: 82.23, Topo: 96.83, Assm: 83.75, PNorm: 146.24, GNorm: 36.59\n"
          ]
        },
        {
          "metadata": {
            "tags": null
          },
          "name": "stderr",
          "output_type": "stream",
          "text": [
            "\r 25%|██▌       | 5/20 [46:42<2:20:34, 562.33s/it]"
          ]
        },
        {
          "metadata": {
            "tags": null
          },
          "name": "stdout",
          "output_type": "stream",
          "text": [
            "[1550] Beta: 0.000, KL: 535.24, Word: 82.27, Topo: 96.72, Assm: 85.03, PNorm: 147.53, GNorm: 20.89\n",
            "[1600] Beta: 0.000, KL: 534.54, Word: 83.18, Topo: 96.71, Assm: 84.74, PNorm: 148.75, GNorm: 23.64\n",
            "[1650] Beta: 0.000, KL: 550.63, Word: 82.81, Topo: 97.00, Assm: 84.55, PNorm: 150.01, GNorm: 33.08\n",
            "[1700] Beta: 0.000, KL: 561.72, Word: 83.28, Topo: 96.93, Assm: 84.87, PNorm: 151.35, GNorm: 38.36\n",
            "[1750] Beta: 0.000, KL: 573.65, Word: 83.98, Topo: 97.25, Assm: 86.09, PNorm: 152.54, GNorm: 29.38\n",
            "[1800] Beta: 0.000, KL: 597.89, Word: 84.74, Topo: 97.31, Assm: 86.52, PNorm: 153.72, GNorm: 25.00\n"
          ]
        },
        {
          "metadata": {
            "tags": null
          },
          "name": "stderr",
          "output_type": "stream",
          "text": [
            "\r 30%|███       | 6/20 [55:50<2:10:01, 557.22s/it]"
          ]
        },
        {
          "metadata": {
            "tags": null
          },
          "name": "stdout",
          "output_type": "stream",
          "text": [
            "[1850] Beta: 0.000, KL: 604.08, Word: 84.73, Topo: 97.13, Assm: 87.22, PNorm: 154.94, GNorm: 34.67\n",
            "[1900] Beta: 0.000, KL: 587.25, Word: 85.34, Topo: 97.24, Assm: 87.15, PNorm: 156.10, GNorm: 30.48\n",
            "[1950] Beta: 0.000, KL: 620.21, Word: 85.30, Topo: 97.36, Assm: 86.94, PNorm: 157.27, GNorm: 24.85\n",
            "[2000] Beta: 0.000, KL: 632.56, Word: 85.25, Topo: 97.36, Assm: 87.38, PNorm: 158.48, GNorm: 30.61\n",
            "[2050] Beta: 0.000, KL: 625.07, Word: 85.80, Topo: 96.97, Assm: 88.19, PNorm: 159.70, GNorm: 21.09\n",
            "[2100] Beta: 0.000, KL: 642.08, Word: 86.36, Topo: 97.46, Assm: 88.63, PNorm: 160.81, GNorm: 32.96\n"
          ]
        },
        {
          "metadata": {
            "tags": null
          },
          "name": "stderr",
          "output_type": "stream",
          "text": [
            "\r 35%|███▌      | 7/20 [1:05:02<2:00:23, 555.64s/it]"
          ]
        },
        {
          "metadata": {
            "tags": null
          },
          "name": "stdout",
          "output_type": "stream",
          "text": [
            "[2150] Beta: 0.000, KL: 660.37, Word: 87.00, Topo: 97.51, Assm: 89.82, PNorm: 161.87, GNorm: 21.31\n",
            "[2200] Beta: 0.000, KL: 657.91, Word: 87.72, Topo: 97.64, Assm: 89.12, PNorm: 162.90, GNorm: 24.55\n",
            "[2250] Beta: 0.000, KL: 682.57, Word: 87.14, Topo: 97.63, Assm: 88.17, PNorm: 164.03, GNorm: 37.81\n",
            "[2300] Beta: 0.000, KL: 688.75, Word: 87.40, Topo: 97.60, Assm: 89.76, PNorm: 165.16, GNorm: 36.58\n",
            "[2350] Beta: 0.000, KL: 680.62, Word: 87.77, Topo: 97.59, Assm: 89.16, PNorm: 166.30, GNorm: 18.18\n",
            "[2400] Beta: 0.000, KL: 693.36, Word: 88.02, Topo: 98.01, Assm: 90.43, PNorm: 167.33, GNorm: 23.11\n"
          ]
        },
        {
          "metadata": {
            "tags": null
          },
          "name": "stderr",
          "output_type": "stream",
          "text": [
            "\r 40%|████      | 8/20 [1:14:20<1:51:14, 556.20s/it]"
          ]
        },
        {
          "metadata": {
            "tags": null
          },
          "name": "stdout",
          "output_type": "stream",
          "text": [
            "[2450] Beta: 0.000, KL: 713.45, Word: 88.74, Topo: 97.80, Assm: 91.14, PNorm: 168.34, GNorm: 27.38\n",
            "[2500] Beta: 0.000, KL: 707.07, Word: 88.97, Topo: 97.64, Assm: 90.34, PNorm: 169.38, GNorm: 26.23\n",
            "[2550] Beta: 0.000, KL: 742.49, Word: 88.54, Topo: 98.00, Assm: 91.25, PNorm: 170.40, GNorm: 30.44\n",
            "[2600] Beta: 0.000, KL: 748.54, Word: 88.84, Topo: 97.75, Assm: 90.76, PNorm: 171.47, GNorm: 32.23\n",
            "[2650] Beta: 0.000, KL: 742.14, Word: 88.50, Topo: 98.02, Assm: 91.33, PNorm: 172.51, GNorm: 39.61\n",
            "[2700] Beta: 0.000, KL: 738.43, Word: 88.95, Topo: 97.95, Assm: 91.11, PNorm: 173.57, GNorm: 27.21\n"
          ]
        },
        {
          "metadata": {
            "tags": null
          },
          "name": "stderr",
          "output_type": "stream",
          "text": [
            "\r 45%|████▌     | 9/20 [1:23:56<1:43:07, 562.54s/it]"
          ]
        },
        {
          "metadata": {
            "tags": null
          },
          "name": "stdout",
          "output_type": "stream",
          "text": [
            "[2750] Beta: 0.000, KL: 755.77, Word: 90.03, Topo: 97.78, Assm: 92.42, PNorm: 174.58, GNorm: 31.22\n",
            "[2800] Beta: 0.000, KL: 752.41, Word: 89.80, Topo: 97.71, Assm: 91.61, PNorm: 175.56, GNorm: 22.82\n",
            "[2850] Beta: 0.000, KL: 777.90, Word: 89.70, Topo: 98.08, Assm: 92.27, PNorm: 176.58, GNorm: 23.94\n",
            "[2900] Beta: 0.000, KL: 789.26, Word: 90.12, Topo: 97.94, Assm: 91.75, PNorm: 177.58, GNorm: 28.24\n",
            "[2950] Beta: 0.000, KL: 783.97, Word: 89.82, Topo: 98.15, Assm: 92.25, PNorm: 178.57, GNorm: 27.73\n",
            "[3000] Beta: 0.000, KL: 785.21, Word: 89.60, Topo: 97.96, Assm: 92.63, PNorm: 179.57, GNorm: 22.50\n"
          ]
        },
        {
          "metadata": {
            "tags": null
          },
          "name": "stderr",
          "output_type": "stream",
          "text": [
            "\r 50%|█████     | 10/20 [1:33:24<1:34:00, 564.09s/it]"
          ]
        },
        {
          "metadata": {
            "tags": null
          },
          "name": "stdout",
          "output_type": "stream",
          "text": [
            "[3050] Beta: 0.000, KL: 790.95, Word: 90.74, Topo: 97.88, Assm: 93.42, PNorm: 180.48, GNorm: 23.40\n",
            "[3100] Beta: 0.000, KL: 788.94, Word: 90.41, Topo: 98.27, Assm: 92.22, PNorm: 181.35, GNorm: 27.37\n",
            "[3150] Beta: 0.000, KL: 813.94, Word: 91.22, Topo: 98.19, Assm: 93.07, PNorm: 182.28, GNorm: 24.00\n",
            "[3200] Beta: 0.000, KL: 821.67, Word: 91.30, Topo: 98.32, Assm: 93.82, PNorm: 183.15, GNorm: 20.61\n",
            "[3250] Beta: 0.000, KL: 814.34, Word: 91.05, Topo: 98.29, Assm: 93.44, PNorm: 184.07, GNorm: 27.22\n",
            "[3300] Beta: 0.000, KL: 826.93, Word: 91.41, Topo: 98.51, Assm: 93.73, PNorm: 184.95, GNorm: 23.39\n"
          ]
        },
        {
          "metadata": {
            "tags": null
          },
          "name": "stderr",
          "output_type": "stream",
          "text": [
            "\r 55%|█████▌    | 11/20 [1:42:34<1:24:00, 560.02s/it]"
          ]
        },
        {
          "output_type": "stream",
          "name": "stdout",
          "text": [
            "[3350] Beta: 0.000, KL: 836.92, Word: 91.75, Topo: 98.37, Assm: 94.20, PNorm: 185.77, GNorm: 22.69\n",
            "[3400] Beta: 0.000, KL: 832.57, Word: 92.16, Topo: 98.31, Assm: 93.75, PNorm: 186.62, GNorm: 36.16\n",
            "[3450] Beta: 0.000, KL: 855.68, Word: 91.51, Topo: 98.33, Assm: 93.91, PNorm: 187.57, GNorm: 22.61\n",
            "[3500] Beta: 0.000, KL: 857.67, Word: 92.13, Topo: 97.93, Assm: 93.94, PNorm: 188.52, GNorm: 29.10\n",
            "[3550] Beta: 0.000, KL: 852.45, Word: 92.78, Topo: 98.40, Assm: 94.03, PNorm: 189.34, GNorm: 32.06\n",
            "[3600] Beta: 0.000, KL: 868.90, Word: 92.71, Topo: 98.77, Assm: 94.20, PNorm: 190.17, GNorm: 19.35\n"
          ]
        },
        {
          "output_type": "stream",
          "name": "stderr",
          "text": [
            "\r 60%|██████    | 12/20 [1:51:47<1:14:21, 557.71s/it]"
          ]
        },
        {
          "output_type": "stream",
          "name": "stdout",
          "text": [
            "[3650] Beta: 0.000, KL: 875.33, Word: 92.60, Topo: 98.72, Assm: 94.87, PNorm: 190.95, GNorm: 21.40\n",
            "[3700] Beta: 0.000, KL: 861.99, Word: 92.62, Topo: 98.41, Assm: 93.96, PNorm: 191.77, GNorm: 34.15\n",
            "[3750] Beta: 0.000, KL: 876.97, Word: 91.30, Topo: 98.19, Assm: 94.53, PNorm: 192.70, GNorm: 34.34\n",
            "[3800] Beta: 0.000, KL: 869.43, Word: 92.38, Topo: 98.40, Assm: 94.56, PNorm: 193.56, GNorm: 26.27\n",
            "[3850] Beta: 0.000, KL: 882.24, Word: 93.43, Topo: 98.72, Assm: 95.78, PNorm: 194.25, GNorm: 30.06\n",
            "[3900] Beta: 0.000, KL: 925.45, Word: 93.43, Topo: 98.81, Assm: 95.38, PNorm: 194.99, GNorm: 21.04\n"
          ]
        },
        {
          "output_type": "stream",
          "name": "stderr",
          "text": [
            "\r 65%|██████▌   | 13/20 [2:01:06<1:05:07, 558.15s/it]"
          ]
        },
        {
          "output_type": "stream",
          "name": "stdout",
          "text": [
            "[3950] Beta: 0.000, KL: 919.04, Word: 93.38, Topo: 98.77, Assm: 95.01, PNorm: 195.73, GNorm: 28.03\n",
            "[4000] Beta: 0.000, KL: 904.30, Word: 93.85, Topo: 98.50, Assm: 95.23, PNorm: 196.50, GNorm: 26.67\n",
            "[4050] Beta: 0.000, KL: 923.76, Word: 92.19, Topo: 98.04, Assm: 95.24, PNorm: 197.37, GNorm: 29.41\n",
            "[4100] Beta: 0.000, KL: 905.95, Word: 93.00, Topo: 98.31, Assm: 94.97, PNorm: 198.20, GNorm: 19.53\n",
            "[4150] Beta: 0.000, KL: 926.32, Word: 94.06, Topo: 98.73, Assm: 95.41, PNorm: 198.88, GNorm: 19.21\n",
            "[4200] Beta: 0.000, KL: 937.90, Word: 93.58, Topo: 98.89, Assm: 95.61, PNorm: 199.61, GNorm: 31.81\n"
          ]
        },
        {
          "output_type": "stream",
          "name": "stderr",
          "text": [
            "\r 70%|███████   | 14/20 [2:10:08<55:18, 553.14s/it]  "
          ]
        },
        {
          "output_type": "stream",
          "name": "stdout",
          "text": [
            "[4250] Beta: 0.000, KL: 938.23, Word: 93.55, Topo: 98.98, Assm: 96.34, PNorm: 200.31, GNorm: 25.31\n",
            "[4300] Beta: 0.000, KL: 927.78, Word: 94.23, Topo: 98.54, Assm: 95.33, PNorm: 200.97, GNorm: 25.93\n",
            "[4350] Beta: 0.000, KL: 958.72, Word: 94.57, Topo: 98.50, Assm: 96.16, PNorm: 201.65, GNorm: 23.11\n",
            "[4400] Beta: 0.000, KL: 957.44, Word: 94.78, Topo: 98.79, Assm: 95.85, PNorm: 202.35, GNorm: 24.26\n",
            "[4450] Beta: 0.000, KL: 968.43, Word: 94.92, Topo: 99.12, Assm: 95.93, PNorm: 202.98, GNorm: 22.27\n",
            "[4500] Beta: 0.000, KL: 979.51, Word: 94.70, Topo: 99.19, Assm: 96.60, PNorm: 203.63, GNorm: 24.31\n"
          ]
        },
        {
          "output_type": "stream",
          "name": "stderr",
          "text": [
            "\r 75%|███████▌  | 15/20 [2:19:11<45:51, 550.36s/it]"
          ]
        },
        {
          "output_type": "stream",
          "name": "stdout",
          "text": [
            "[4550] Beta: 0.000, KL: 984.34, Word: 94.70, Topo: 99.14, Assm: 96.25, PNorm: 204.29, GNorm: 19.73\n",
            "[4600] Beta: 0.000, KL: 969.07, Word: 95.30, Topo: 98.91, Assm: 95.67, PNorm: 204.94, GNorm: 23.83\n",
            "[4650] Beta: 0.000, KL: 1003.45, Word: 95.33, Topo: 99.04, Assm: 96.51, PNorm: 205.58, GNorm: 23.63\n",
            "[4700] Beta: 0.000, KL: 1006.92, Word: 95.65, Topo: 99.09, Assm: 95.92, PNorm: 206.21, GNorm: 23.28\n",
            "[4750] Beta: 0.000, KL: 1007.89, Word: 95.29, Topo: 99.25, Assm: 96.45, PNorm: 206.83, GNorm: 26.35\n",
            "[4800] Beta: 0.000, KL: 1027.47, Word: 95.04, Topo: 99.10, Assm: 96.31, PNorm: 207.52, GNorm: 31.50\n"
          ]
        },
        {
          "output_type": "stream",
          "name": "stderr",
          "text": [
            "\r 80%|████████  | 16/20 [2:28:21<36:40, 550.21s/it]"
          ]
        },
        {
          "output_type": "stream",
          "name": "stdout",
          "text": [
            "[4850] Beta: 0.000, KL: 1015.73, Word: 95.19, Topo: 99.16, Assm: 96.79, PNorm: 208.18, GNorm: 21.24\n",
            "[4900] Beta: 0.000, KL: 995.34, Word: 95.36, Topo: 98.89, Assm: 96.06, PNorm: 208.80, GNorm: 22.78\n",
            "[4950] Beta: 0.000, KL: 1035.61, Word: 95.93, Topo: 99.08, Assm: 97.16, PNorm: 209.39, GNorm: 18.78\n",
            "[5000] Beta: 0.000, KL: 1035.09, Word: 95.98, Topo: 99.14, Assm: 97.11, PNorm: 210.02, GNorm: 17.34\n",
            "[5050] Beta: 0.000, KL: 1045.33, Word: 96.15, Topo: 99.24, Assm: 97.08, PNorm: 210.58, GNorm: 15.28\n",
            "[5100] Beta: 0.000, KL: 1066.78, Word: 95.96, Topo: 99.22, Assm: 96.69, PNorm: 211.18, GNorm: 17.96\n"
          ]
        },
        {
          "output_type": "stream",
          "name": "stderr",
          "text": [
            "\r 85%|████████▌ | 17/20 [2:37:23<27:22, 547.60s/it]"
          ]
        },
        {
          "output_type": "stream",
          "name": "stdout",
          "text": [
            "[5150] Beta: 0.000, KL: 1060.10, Word: 95.39, Topo: 98.97, Assm: 96.71, PNorm: 211.84, GNorm: 23.54\n",
            "[5200] Beta: 0.000, KL: 1036.57, Word: 95.42, Topo: 99.02, Assm: 96.35, PNorm: 212.51, GNorm: 23.36\n",
            "[5250] Beta: 0.000, KL: 1056.14, Word: 95.77, Topo: 99.19, Assm: 96.77, PNorm: 213.16, GNorm: 26.91\n",
            "[5300] Beta: 0.000, KL: 1053.06, Word: 95.87, Topo: 99.15, Assm: 95.75, PNorm: 213.83, GNorm: 21.73\n",
            "[5350] Beta: 0.000, KL: 1057.13, Word: 96.28, Topo: 99.18, Assm: 96.46, PNorm: 214.41, GNorm: 27.59\n",
            "[5400] Beta: 0.000, KL: 1086.22, Word: 96.38, Topo: 99.31, Assm: 97.08, PNorm: 214.95, GNorm: 23.83\n"
          ]
        },
        {
          "output_type": "stream",
          "name": "stderr",
          "text": [
            "\r 90%|█████████ | 18/20 [2:46:52<18:28, 554.21s/it]"
          ]
        },
        {
          "output_type": "stream",
          "name": "stdout",
          "text": [
            "[5450] Beta: 0.000, KL: 1085.79, Word: 95.73, Topo: 99.21, Assm: 97.37, PNorm: 215.55, GNorm: 25.85\n",
            "[5500] Beta: 0.000, KL: 1058.44, Word: 95.59, Topo: 99.17, Assm: 97.32, PNorm: 216.17, GNorm: 27.04\n",
            "[5550] Beta: 0.000, KL: 1079.01, Word: 95.03, Topo: 99.18, Assm: 97.10, PNorm: 216.75, GNorm: 25.10\n",
            "[5600] Beta: 0.000, KL: 1081.40, Word: 96.10, Topo: 99.22, Assm: 97.10, PNorm: 217.35, GNorm: 28.46\n",
            "[5650] Beta: 0.000, KL: 1071.72, Word: 96.18, Topo: 99.36, Assm: 97.12, PNorm: 217.94, GNorm: 22.09\n",
            "[5700] Beta: 0.000, KL: 1102.46, Word: 96.14, Topo: 99.34, Assm: 97.29, PNorm: 218.50, GNorm: 17.98\n"
          ]
        },
        {
          "output_type": "stream",
          "name": "stderr",
          "text": [
            "\r 95%|█████████▌| 19/20 [2:56:06<09:14, 554.05s/it]"
          ]
        },
        {
          "output_type": "stream",
          "name": "stdout",
          "text": [
            "[5750] Beta: 0.000, KL: 1093.34, Word: 96.03, Topo: 99.28, Assm: 97.33, PNorm: 219.06, GNorm: 24.35\n",
            "[5800] Beta: 0.000, KL: 1069.73, Word: 95.82, Topo: 99.21, Assm: 97.22, PNorm: 219.60, GNorm: 18.32\n",
            "[5850] Beta: 0.000, KL: 1097.59, Word: 96.09, Topo: 99.31, Assm: 97.28, PNorm: 220.13, GNorm: 23.99\n",
            "[5900] Beta: 0.000, KL: 1088.46, Word: 96.30, Topo: 99.27, Assm: 96.38, PNorm: 220.81, GNorm: 17.72\n",
            "[5950] Beta: 0.000, KL: 1093.07, Word: 96.86, Topo: 99.29, Assm: 96.75, PNorm: 221.34, GNorm: 20.74\n",
            "[6000] Beta: 0.000, KL: 1099.83, Word: 96.29, Topo: 99.37, Assm: 97.17, PNorm: 221.89, GNorm: 27.00\n"
          ]
        },
        {
          "output_type": "stream",
          "name": "stderr",
          "text": [
            "100%|██████████| 20/20 [3:05:26<00:00, 556.35s/it]\n"
          ]
        }
      ]
    },
    {
      "cell_type": "code",
      "source": [
        "torch.save(model.state_dict(), './drive/MyDrive/SCAMT/jtvae.pth')"
      ],
      "metadata": {
        "id": "lI0mjRewLDYO"
      },
      "execution_count": null,
      "outputs": []
    },
    {
      "cell_type": "code",
      "source": [
        "smiles_encode[3].shape"
      ],
      "metadata": {
        "colab": {
          "base_uri": "https://localhost:8080/"
        },
        "id": "zraWd_1e5Q73",
        "outputId": "2ac2c6c3-d547-419f-e1d5-79393ad2203d"
      },
      "execution_count": null,
      "outputs": [
        {
          "output_type": "execute_result",
          "data": {
            "text/plain": [
              "torch.Size([900])"
            ]
          },
          "metadata": {},
          "execution_count": 38
        }
      ]
    }
  ]
}