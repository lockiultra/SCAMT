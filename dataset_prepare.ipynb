{
  "nbformat": 4,
  "nbformat_minor": 0,
  "metadata": {
    "colab": {
      "provenance": [],
      "mount_file_id": "1UDjj8qmOxRh2iXKVybLOIet0KAINW5Mt",
      "authorship_tag": "ABX9TyOk0NkHQxrlAsl/LpW1v5FS",
      "include_colab_link": true
    },
    "kernelspec": {
      "name": "python3",
      "display_name": "Python 3"
    },
    "language_info": {
      "name": "python"
    }
  },
  "cells": [
    {
      "cell_type": "markdown",
      "metadata": {
        "id": "view-in-github",
        "colab_type": "text"
      },
      "source": [
        "<a href=\"https://colab.research.google.com/github/lockiultra/SCAMT/blob/main/dataset_prepare.ipynb\" target=\"_parent\"><img src=\"https://colab.research.google.com/assets/colab-badge.svg\" alt=\"Open In Colab\"/></a>"
      ]
    },
    {
      "cell_type": "code",
      "execution_count": 1,
      "metadata": {
        "colab": {
          "base_uri": "https://localhost:8080/"
        },
        "id": "RGgxlu9TOA9Y",
        "outputId": "04f812ad-51fc-4891-f364-c0e25c47a463"
      },
      "outputs": [
        {
          "output_type": "stream",
          "name": "stdout",
          "text": [
            "\u001b[?25l     \u001b[90m━━━━━━━━━━━━━━━━━━━━━━━━━━━━━━━━━━━━━━━━\u001b[0m \u001b[32m0.0/1.0 MB\u001b[0m \u001b[31m?\u001b[0m eta \u001b[36m-:--:--\u001b[0m\r\u001b[2K     \u001b[91m━━\u001b[0m\u001b[90m╺\u001b[0m\u001b[90m━━━━━━━━━━━━━━━━━━━━━━━━━━━━━━━━━━━━━\u001b[0m \u001b[32m0.1/1.0 MB\u001b[0m \u001b[31m1.9 MB/s\u001b[0m eta \u001b[36m0:00:01\u001b[0m\r\u001b[2K     \u001b[91m━━━━━━━━━━━━━━\u001b[0m\u001b[90m╺\u001b[0m\u001b[90m━━━━━━━━━━━━━━━━━━━━━━━━━\u001b[0m \u001b[32m0.4/1.0 MB\u001b[0m \u001b[31m6.1 MB/s\u001b[0m eta \u001b[36m0:00:01\u001b[0m\r\u001b[2K     \u001b[91m━━━━━━━━━━━━━━━━━━━━━━━\u001b[0m\u001b[90m╺\u001b[0m\u001b[90m━━━━━━━━━━━━━━━━\u001b[0m \u001b[32m0.6/1.0 MB\u001b[0m \u001b[31m5.8 MB/s\u001b[0m eta \u001b[36m0:00:01\u001b[0m\r\u001b[2K     \u001b[91m━━━━━━━━━━━━━━━━━━━━━━━━━━━━━━━━━━━━━━━\u001b[0m\u001b[91m╸\u001b[0m \u001b[32m1.0/1.0 MB\u001b[0m \u001b[31m7.7 MB/s\u001b[0m eta \u001b[36m0:00:01\u001b[0m\r\u001b[2K     \u001b[90m━━━━━━━━━━━━━━━━━━━━━━━━━━━━━━━━━━━━━━━━\u001b[0m \u001b[32m1.0/1.0 MB\u001b[0m \u001b[31m7.0 MB/s\u001b[0m eta \u001b[36m0:00:00\u001b[0m\n",
            "\u001b[?25h"
          ]
        }
      ],
      "source": [
        "!pip install -q drug-named-entity-recognition\n",
        "# !pip install -q cirpy"
      ]
    },
    {
      "cell_type": "code",
      "source": [
        "import nltk\n",
        "from nltk.tokenize import wordpunct_tokenize, word_tokenize\n",
        "from drug_named_entity_recognition import find_drugs\n",
        "from bs4 import BeautifulSoup\n",
        "from tqdm import tqdm\n",
        "import pandas as pd\n",
        "import seaborn as sns\n",
        "import matplotlib.pyplot as plt\n",
        "import requests\n",
        "import json\n",
        "import os\n",
        "\n",
        "import warnings\n",
        "warnings.filterwarnings('ignore')\n",
        "\n",
        "nltk.download('punkt')"
      ],
      "metadata": {
        "colab": {
          "base_uri": "https://localhost:8080/"
        },
        "id": "wu0EZCTnOZUg",
        "outputId": "65ab83f5-ccab-4ff5-a43f-4a9da8ac7caf"
      },
      "execution_count": 33,
      "outputs": [
        {
          "output_type": "stream",
          "name": "stderr",
          "text": [
            "[nltk_data] Downloading package punkt to /root/nltk_data...\n",
            "[nltk_data]   Package punkt is already up-to-date!\n"
          ]
        },
        {
          "output_type": "execute_result",
          "data": {
            "text/plain": [
              "True"
            ]
          },
          "metadata": {},
          "execution_count": 33
        }
      ]
    },
    {
      "cell_type": "code",
      "source": [
        "diseases = [disease[:-4] for disease in os.listdir('./drive/MyDrive/SCAMT')]"
      ],
      "metadata": {
        "id": "_eu7oWHddc5m"
      },
      "execution_count": 13,
      "outputs": []
    },
    {
      "cell_type": "code",
      "source": [
        "diseases"
      ],
      "metadata": {
        "colab": {
          "base_uri": "https://localhost:8080/"
        },
        "id": "WCBAMN_UejWs",
        "outputId": "13e9ad5e-6645-4094-9170-1d6156053b10"
      },
      "execution_count": 14,
      "outputs": [
        {
          "output_type": "execute_result",
          "data": {
            "text/plain": [
              "['cardiovascular_disease',\n",
              " 'urinary_system_disease',\n",
              " 'digestive_system_disease',\n",
              " 'immune_system_disease',\n",
              " 'mental_and_behavioural_disorder',\n",
              " 'metabolic_disease',\n",
              " 'nervous_system_disease',\n",
              " 'skin_and_connective_tissue_disease']"
            ]
          },
          "metadata": {},
          "execution_count": 14
        }
      ]
    },
    {
      "cell_type": "code",
      "source": [
        "def get_smiles(drug):\n",
        "  api_url = f'https://pubchem.ncbi.nlm.nih.gov/rest/pug/compound/name/{drug}/json'\n",
        "  response = json.loads(requests.get(api_url).text)\n",
        "  if response.get('PC_Compounds'):\n",
        "    for i in response.get('PC_Compounds')[0]['props']:\n",
        "      if i['urn'].get('label') == 'SMILES' and i['urn'].get('name') == 'Canonical':\n",
        "        return i['value']['sval']\n",
        "\n",
        "def get_drugs(drugs):\n",
        "  res = [None] * len(drugs)\n",
        "  for i, drug in enumerate(drugs):\n",
        "    res[i] = drug[0]['name']\n",
        "  return ';'.join(res)\n",
        "\n",
        "def drug_split(data, disease):\n",
        "  df = pd.DataFrame(columns=['Conditions', 'Drug', 'Smiles'])\n",
        "  for i in range(data.shape[0]):\n",
        "    for drug in data.iloc[i]['Interventions'].split(';'):\n",
        "      df = df.append({'Conditions': data.iloc[i]['Conditions'], 'Drug': drug, 'Smiles': None, 'Disease': f'{disease}'}, ignore_index=True)\n",
        "  return df\n",
        "\n",
        "def get_prepared_data(data, disease):\n",
        "  data['Interventions'] = data['Interventions'].map(lambda x: get_drugs(find_drugs(wordpunct_tokenize(x))))\n",
        "  data = data[data['Interventions'] > '']\n",
        "  data = drug_split(data, disease)\n",
        "  data = data.drop_duplicates(subset=['Drug'])\n",
        "  data['Smiles'] = data['Drug'].map(lambda x: get_smiles(x))\n",
        "  data = data.dropna()\n",
        "  return data"
      ],
      "metadata": {
        "id": "Rs9Oiwz3b4Es"
      },
      "execution_count": 15,
      "outputs": []
    },
    {
      "cell_type": "code",
      "source": [
        "data = pd.DataFrame(columns=['Conditions', 'Drug', 'Smiles'])\n",
        "\n",
        "for disease in tqdm(diseases):\n",
        "  curr_df = pd.read_csv(f'./drive/MyDrive/SCAMT/{disease}.csv', usecols=['Conditions', 'Interventions'])\n",
        "  curr_df = get_prepared_data(curr_df, disease)\n",
        "  frames = [data, curr_df]\n",
        "  data = pd.concat(frames)"
      ],
      "metadata": {
        "colab": {
          "base_uri": "https://localhost:8080/"
        },
        "id": "UwaYib41h0uQ",
        "outputId": "31c036ca-41a4-4190-82c7-2ce0eb6f51fd"
      },
      "execution_count": 17,
      "outputs": [
        {
          "output_type": "stream",
          "name": "stderr",
          "text": [
            "100%|██████████| 8/8 [1:13:02<00:00, 547.76s/it]\n"
          ]
        }
      ]
    },
    {
      "cell_type": "code",
      "source": [
        "data.to_csv('./drive/MyDrive/SCAMT/data.csv')"
      ],
      "metadata": {
        "id": "8AoVzEfK0fUK"
      },
      "execution_count": 19,
      "outputs": []
    },
    {
      "cell_type": "code",
      "source": [
        "data"
      ],
      "metadata": {
        "colab": {
          "base_uri": "https://localhost:8080/",
          "height": 554
        },
        "id": "bWfxDXL30oXF",
        "outputId": "5a4d5d75-eb71-46ce-d616-fe317102ad1d"
      },
      "execution_count": 20,
      "outputs": [
        {
          "output_type": "execute_result",
          "data": {
            "text/plain": [
              "                                            Conditions           Drug  \\\n",
              "0                                     Multiple Myeloma     Bortezomib   \n",
              "1                                     Multiple Myeloma  Dexamethasone   \n",
              "2                                              Myeloma    Minocycline   \n",
              "3                                              Myeloma    Ciclosporin   \n",
              "4                                              Myeloma    Chloroquine   \n",
              "..                                                 ...            ...   \n",
              "219                                    Dermatomyositis   Methotrexate   \n",
              "223                                 Systemic Sclerosis       Imatinib   \n",
              "225  T-Cell Peripheral Lymphoma|Gamma Delta Hepatos...      Etoposide   \n",
              "228  T-Cell Peripheral Lymphoma|Gamma Delta Hepatos...    Vincristine   \n",
              "239                              Scleroderma, Systemic     Nintedanib   \n",
              "\n",
              "                                                Smiles  \\\n",
              "0    B(C(CC(C)C)NC(=O)C(CC1=CC=CC=C1)NC(=O)C2=NC=CN...   \n",
              "1    CC1CC2C3CCC4=CC(=O)C=CC4(C3(C(CC2(C1(C(=O)CO)O...   \n",
              "2    CN(C)C1C2CC3CC4=C(C=CC(=C4C(=C3C(=O)C2(C(=C(C1...   \n",
              "3    CCC1C(=O)N(CC(=O)N(C(C(=O)NC(C(=O)N(C(C(=O)NC(...   \n",
              "4               CCN(CC)CCCC(C)NC1=C2C=CC(=CC2=NC=C1)Cl   \n",
              "..                                                 ...   \n",
              "219  CN(CC1=CN=C2C(=N1)C(=NC(=N2)N)N)C3=CC=C(C=C3)C...   \n",
              "223  CC1=C(C=C(C=C1)NC(=O)C2=CC=C(C=C2)CN3CCN(CC3)C...   \n",
              "225  CC1OCC2C(O1)C(C(C(O2)OC3C4COC(=O)C4C(C5=CC6=C(...   \n",
              "228  CCC1(CC2CC(C3=C(CCN(C2)C1)C4=CC=CC=C4N3)(C5=C(...   \n",
              "239  CN1CCN(CC1)CC(=O)N(C)C2=CC=C(C=C2)N=C(C3=CC=CC...   \n",
              "\n",
              "                                Disease  \n",
              "0                cardiovascular_disease  \n",
              "1                cardiovascular_disease  \n",
              "2                cardiovascular_disease  \n",
              "3                cardiovascular_disease  \n",
              "4                cardiovascular_disease  \n",
              "..                                  ...  \n",
              "219  skin_and_connective_tissue_disease  \n",
              "223  skin_and_connective_tissue_disease  \n",
              "225  skin_and_connective_tissue_disease  \n",
              "228  skin_and_connective_tissue_disease  \n",
              "239  skin_and_connective_tissue_disease  \n",
              "\n",
              "[4114 rows x 4 columns]"
            ],
            "text/html": [
              "\n",
              "\n",
              "  <div id=\"df-b70704e5-7f48-4ae3-a02d-9f1fe3133a66\">\n",
              "    <div class=\"colab-df-container\">\n",
              "      <div>\n",
              "<style scoped>\n",
              "    .dataframe tbody tr th:only-of-type {\n",
              "        vertical-align: middle;\n",
              "    }\n",
              "\n",
              "    .dataframe tbody tr th {\n",
              "        vertical-align: top;\n",
              "    }\n",
              "\n",
              "    .dataframe thead th {\n",
              "        text-align: right;\n",
              "    }\n",
              "</style>\n",
              "<table border=\"1\" class=\"dataframe\">\n",
              "  <thead>\n",
              "    <tr style=\"text-align: right;\">\n",
              "      <th></th>\n",
              "      <th>Conditions</th>\n",
              "      <th>Drug</th>\n",
              "      <th>Smiles</th>\n",
              "      <th>Disease</th>\n",
              "    </tr>\n",
              "  </thead>\n",
              "  <tbody>\n",
              "    <tr>\n",
              "      <th>0</th>\n",
              "      <td>Multiple Myeloma</td>\n",
              "      <td>Bortezomib</td>\n",
              "      <td>B(C(CC(C)C)NC(=O)C(CC1=CC=CC=C1)NC(=O)C2=NC=CN...</td>\n",
              "      <td>cardiovascular_disease</td>\n",
              "    </tr>\n",
              "    <tr>\n",
              "      <th>1</th>\n",
              "      <td>Multiple Myeloma</td>\n",
              "      <td>Dexamethasone</td>\n",
              "      <td>CC1CC2C3CCC4=CC(=O)C=CC4(C3(C(CC2(C1(C(=O)CO)O...</td>\n",
              "      <td>cardiovascular_disease</td>\n",
              "    </tr>\n",
              "    <tr>\n",
              "      <th>2</th>\n",
              "      <td>Myeloma</td>\n",
              "      <td>Minocycline</td>\n",
              "      <td>CN(C)C1C2CC3CC4=C(C=CC(=C4C(=C3C(=O)C2(C(=C(C1...</td>\n",
              "      <td>cardiovascular_disease</td>\n",
              "    </tr>\n",
              "    <tr>\n",
              "      <th>3</th>\n",
              "      <td>Myeloma</td>\n",
              "      <td>Ciclosporin</td>\n",
              "      <td>CCC1C(=O)N(CC(=O)N(C(C(=O)NC(C(=O)N(C(C(=O)NC(...</td>\n",
              "      <td>cardiovascular_disease</td>\n",
              "    </tr>\n",
              "    <tr>\n",
              "      <th>4</th>\n",
              "      <td>Myeloma</td>\n",
              "      <td>Chloroquine</td>\n",
              "      <td>CCN(CC)CCCC(C)NC1=C2C=CC(=CC2=NC=C1)Cl</td>\n",
              "      <td>cardiovascular_disease</td>\n",
              "    </tr>\n",
              "    <tr>\n",
              "      <th>...</th>\n",
              "      <td>...</td>\n",
              "      <td>...</td>\n",
              "      <td>...</td>\n",
              "      <td>...</td>\n",
              "    </tr>\n",
              "    <tr>\n",
              "      <th>219</th>\n",
              "      <td>Dermatomyositis</td>\n",
              "      <td>Methotrexate</td>\n",
              "      <td>CN(CC1=CN=C2C(=N1)C(=NC(=N2)N)N)C3=CC=C(C=C3)C...</td>\n",
              "      <td>skin_and_connective_tissue_disease</td>\n",
              "    </tr>\n",
              "    <tr>\n",
              "      <th>223</th>\n",
              "      <td>Systemic Sclerosis</td>\n",
              "      <td>Imatinib</td>\n",
              "      <td>CC1=C(C=C(C=C1)NC(=O)C2=CC=C(C=C2)CN3CCN(CC3)C...</td>\n",
              "      <td>skin_and_connective_tissue_disease</td>\n",
              "    </tr>\n",
              "    <tr>\n",
              "      <th>225</th>\n",
              "      <td>T-Cell Peripheral Lymphoma|Gamma Delta Hepatos...</td>\n",
              "      <td>Etoposide</td>\n",
              "      <td>CC1OCC2C(O1)C(C(C(O2)OC3C4COC(=O)C4C(C5=CC6=C(...</td>\n",
              "      <td>skin_and_connective_tissue_disease</td>\n",
              "    </tr>\n",
              "    <tr>\n",
              "      <th>228</th>\n",
              "      <td>T-Cell Peripheral Lymphoma|Gamma Delta Hepatos...</td>\n",
              "      <td>Vincristine</td>\n",
              "      <td>CCC1(CC2CC(C3=C(CCN(C2)C1)C4=CC=CC=C4N3)(C5=C(...</td>\n",
              "      <td>skin_and_connective_tissue_disease</td>\n",
              "    </tr>\n",
              "    <tr>\n",
              "      <th>239</th>\n",
              "      <td>Scleroderma, Systemic</td>\n",
              "      <td>Nintedanib</td>\n",
              "      <td>CN1CCN(CC1)CC(=O)N(C)C2=CC=C(C=C2)N=C(C3=CC=CC...</td>\n",
              "      <td>skin_and_connective_tissue_disease</td>\n",
              "    </tr>\n",
              "  </tbody>\n",
              "</table>\n",
              "<p>4114 rows × 4 columns</p>\n",
              "</div>\n",
              "      <button class=\"colab-df-convert\" onclick=\"convertToInteractive('df-b70704e5-7f48-4ae3-a02d-9f1fe3133a66')\"\n",
              "              title=\"Convert this dataframe to an interactive table.\"\n",
              "              style=\"display:none;\">\n",
              "\n",
              "  <svg xmlns=\"http://www.w3.org/2000/svg\" height=\"24px\"viewBox=\"0 0 24 24\"\n",
              "       width=\"24px\">\n",
              "    <path d=\"M0 0h24v24H0V0z\" fill=\"none\"/>\n",
              "    <path d=\"M18.56 5.44l.94 2.06.94-2.06 2.06-.94-2.06-.94-.94-2.06-.94 2.06-2.06.94zm-11 1L8.5 8.5l.94-2.06 2.06-.94-2.06-.94L8.5 2.5l-.94 2.06-2.06.94zm10 10l.94 2.06.94-2.06 2.06-.94-2.06-.94-.94-2.06-.94 2.06-2.06.94z\"/><path d=\"M17.41 7.96l-1.37-1.37c-.4-.4-.92-.59-1.43-.59-.52 0-1.04.2-1.43.59L10.3 9.45l-7.72 7.72c-.78.78-.78 2.05 0 2.83L4 21.41c.39.39.9.59 1.41.59.51 0 1.02-.2 1.41-.59l7.78-7.78 2.81-2.81c.8-.78.8-2.07 0-2.86zM5.41 20L4 18.59l7.72-7.72 1.47 1.35L5.41 20z\"/>\n",
              "  </svg>\n",
              "      </button>\n",
              "\n",
              "\n",
              "\n",
              "    <div id=\"df-61cfd057-9206-4361-9e6a-817b6f1b2834\">\n",
              "      <button class=\"colab-df-quickchart\" onclick=\"quickchart('df-61cfd057-9206-4361-9e6a-817b6f1b2834')\"\n",
              "              title=\"Suggest charts.\"\n",
              "              style=\"display:none;\">\n",
              "\n",
              "<svg xmlns=\"http://www.w3.org/2000/svg\" height=\"24px\"viewBox=\"0 0 24 24\"\n",
              "     width=\"24px\">\n",
              "    <g>\n",
              "        <path d=\"M19 3H5c-1.1 0-2 .9-2 2v14c0 1.1.9 2 2 2h14c1.1 0 2-.9 2-2V5c0-1.1-.9-2-2-2zM9 17H7v-7h2v7zm4 0h-2V7h2v10zm4 0h-2v-4h2v4z\"/>\n",
              "    </g>\n",
              "</svg>\n",
              "      </button>\n",
              "    </div>\n",
              "\n",
              "<style>\n",
              "  .colab-df-quickchart {\n",
              "    background-color: #E8F0FE;\n",
              "    border: none;\n",
              "    border-radius: 50%;\n",
              "    cursor: pointer;\n",
              "    display: none;\n",
              "    fill: #1967D2;\n",
              "    height: 32px;\n",
              "    padding: 0 0 0 0;\n",
              "    width: 32px;\n",
              "  }\n",
              "\n",
              "  .colab-df-quickchart:hover {\n",
              "    background-color: #E2EBFA;\n",
              "    box-shadow: 0px 1px 2px rgba(60, 64, 67, 0.3), 0px 1px 3px 1px rgba(60, 64, 67, 0.15);\n",
              "    fill: #174EA6;\n",
              "  }\n",
              "\n",
              "  [theme=dark] .colab-df-quickchart {\n",
              "    background-color: #3B4455;\n",
              "    fill: #D2E3FC;\n",
              "  }\n",
              "\n",
              "  [theme=dark] .colab-df-quickchart:hover {\n",
              "    background-color: #434B5C;\n",
              "    box-shadow: 0px 1px 3px 1px rgba(0, 0, 0, 0.15);\n",
              "    filter: drop-shadow(0px 1px 2px rgba(0, 0, 0, 0.3));\n",
              "    fill: #FFFFFF;\n",
              "  }\n",
              "</style>\n",
              "\n",
              "    <script>\n",
              "      async function quickchart(key) {\n",
              "        const containerElement = document.querySelector('#' + key);\n",
              "        const charts = await google.colab.kernel.invokeFunction(\n",
              "            'suggestCharts', [key], {});\n",
              "      }\n",
              "    </script>\n",
              "\n",
              "      <script>\n",
              "\n",
              "function displayQuickchartButton(domScope) {\n",
              "  let quickchartButtonEl =\n",
              "    domScope.querySelector('#df-61cfd057-9206-4361-9e6a-817b6f1b2834 button.colab-df-quickchart');\n",
              "  quickchartButtonEl.style.display =\n",
              "    google.colab.kernel.accessAllowed ? 'block' : 'none';\n",
              "}\n",
              "\n",
              "        displayQuickchartButton(document);\n",
              "      </script>\n",
              "      <style>\n",
              "    .colab-df-container {\n",
              "      display:flex;\n",
              "      flex-wrap:wrap;\n",
              "      gap: 12px;\n",
              "    }\n",
              "\n",
              "    .colab-df-convert {\n",
              "      background-color: #E8F0FE;\n",
              "      border: none;\n",
              "      border-radius: 50%;\n",
              "      cursor: pointer;\n",
              "      display: none;\n",
              "      fill: #1967D2;\n",
              "      height: 32px;\n",
              "      padding: 0 0 0 0;\n",
              "      width: 32px;\n",
              "    }\n",
              "\n",
              "    .colab-df-convert:hover {\n",
              "      background-color: #E2EBFA;\n",
              "      box-shadow: 0px 1px 2px rgba(60, 64, 67, 0.3), 0px 1px 3px 1px rgba(60, 64, 67, 0.15);\n",
              "      fill: #174EA6;\n",
              "    }\n",
              "\n",
              "    [theme=dark] .colab-df-convert {\n",
              "      background-color: #3B4455;\n",
              "      fill: #D2E3FC;\n",
              "    }\n",
              "\n",
              "    [theme=dark] .colab-df-convert:hover {\n",
              "      background-color: #434B5C;\n",
              "      box-shadow: 0px 1px 3px 1px rgba(0, 0, 0, 0.15);\n",
              "      filter: drop-shadow(0px 1px 2px rgba(0, 0, 0, 0.3));\n",
              "      fill: #FFFFFF;\n",
              "    }\n",
              "  </style>\n",
              "\n",
              "      <script>\n",
              "        const buttonEl =\n",
              "          document.querySelector('#df-b70704e5-7f48-4ae3-a02d-9f1fe3133a66 button.colab-df-convert');\n",
              "        buttonEl.style.display =\n",
              "          google.colab.kernel.accessAllowed ? 'block' : 'none';\n",
              "\n",
              "        async function convertToInteractive(key) {\n",
              "          const element = document.querySelector('#df-b70704e5-7f48-4ae3-a02d-9f1fe3133a66');\n",
              "          const dataTable =\n",
              "            await google.colab.kernel.invokeFunction('convertToInteractive',\n",
              "                                                     [key], {});\n",
              "          if (!dataTable) return;\n",
              "\n",
              "          const docLinkHtml = 'Like what you see? Visit the ' +\n",
              "            '<a target=\"_blank\" href=https://colab.research.google.com/notebooks/data_table.ipynb>data table notebook</a>'\n",
              "            + ' to learn more about interactive tables.';\n",
              "          element.innerHTML = '';\n",
              "          dataTable['output_type'] = 'display_data';\n",
              "          await google.colab.output.renderOutput(dataTable, element);\n",
              "          const docLink = document.createElement('div');\n",
              "          docLink.innerHTML = docLinkHtml;\n",
              "          element.appendChild(docLink);\n",
              "        }\n",
              "      </script>\n",
              "    </div>\n",
              "  </div>\n"
            ]
          },
          "metadata": {},
          "execution_count": 20
        }
      ]
    },
    {
      "cell_type": "code",
      "source": [
        "data['Drug'].unique().shape"
      ],
      "metadata": {
        "colab": {
          "base_uri": "https://localhost:8080/"
        },
        "id": "Ec9opCfi0f2_",
        "outputId": "10ee7481-f74a-4b02-d5d5-c166bc3ede57"
      },
      "execution_count": 24,
      "outputs": [
        {
          "output_type": "execute_result",
          "data": {
            "text/plain": [
              "(1726,)"
            ]
          },
          "metadata": {},
          "execution_count": 24
        }
      ]
    },
    {
      "cell_type": "code",
      "source": [
        "data = data.drop_duplicates(subset=['Drug'])"
      ],
      "metadata": {
        "id": "wtcTF2DR1NWM"
      },
      "execution_count": 30,
      "outputs": []
    },
    {
      "cell_type": "code",
      "source": [
        "plt.figure(figsize=(16, 9))\n",
        "sns.barplot(x=data['Disease'].value_counts().index, y=data['Disease'].value_counts().values)\n",
        "plt.xticks(rotation=45)"
      ],
      "metadata": {
        "colab": {
          "base_uri": "https://localhost:8080/",
          "height": 854
        },
        "id": "lrHaRJPM1qCF",
        "outputId": "7b5aad6b-bbd0-4b0e-c517-5535d404242c"
      },
      "execution_count": 49,
      "outputs": [
        {
          "output_type": "execute_result",
          "data": {
            "text/plain": [
              "(array([0, 1, 2, 3, 4, 5, 6, 7]),\n",
              " [Text(0, 0, 'cardiovascular_disease'),\n",
              "  Text(1, 0, 'digestive_system_disease'),\n",
              "  Text(2, 0, 'urinary_system_disease'),\n",
              "  Text(3, 0, 'immune_system_disease'),\n",
              "  Text(4, 0, 'nervous_system_disease'),\n",
              "  Text(5, 0, 'metabolic_disease'),\n",
              "  Text(6, 0, 'mental_and_behavioural_disorder'),\n",
              "  Text(7, 0, 'skin_and_connective_tissue_disease')])"
            ]
          },
          "metadata": {},
          "execution_count": 49
        },
        {
          "output_type": "display_data",
          "data": {
            "text/plain": [
              "<Figure size 1600x900 with 1 Axes>"
            ],
            "image/png": "[encoded data removed]"
          },
          "metadata": {}
        }
      ]
    },
    {
      "cell_type": "code",
      "source": [
        "data['Disease'].value_counts()"
      ],
      "metadata": {
        "colab": {
          "base_uri": "https://localhost:8080/"
        },
        "id": "ivoSMdQS33hP",
        "outputId": "569d0282-2251-4fbf-cdeb-572b9962723e"
      },
      "execution_count": 50,
      "outputs": [
        {
          "output_type": "execute_result",
          "data": {
            "text/plain": [
              "cardiovascular_disease                631\n",
              "digestive_system_disease              334\n",
              "urinary_system_disease                245\n",
              "immune_system_disease                 216\n",
              "nervous_system_disease                155\n",
              "metabolic_disease                      89\n",
              "mental_and_behavioural_disorder        52\n",
              "skin_and_connective_tissue_disease      4\n",
              "Name: Disease, dtype: int64"
            ]
          },
          "metadata": {},
          "execution_count": 50
        }
      ]
    },
    {
      "cell_type": "code",
      "source": [
        "data.to_csv('./drive/MyDrive/SCAMT/data_without_dupl.csv')"
      ],
      "metadata": {
        "id": "MrZJUYjR4sT0"
      },
      "execution_count": 51,
      "outputs": []
    }
  ]
}